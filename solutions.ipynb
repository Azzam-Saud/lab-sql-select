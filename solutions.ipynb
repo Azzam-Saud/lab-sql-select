{
 "cells": [
  {
   "cell_type": "code",
   "execution_count": null,
   "id": "8519ca3a",
   "metadata": {},
   "outputs": [],
   "source": [
    "# challenge 1 :\n",
    "SELECT \n",
    "    a.au_id AS \"AUTHOR ID\",\n",
    "    a.au_lname AS \"LAST NAME\",\n",
    "    a.au_fname AS \"FIRST NAME\",\n",
    "    t.title AS \"TITLE\",\n",
    "    p.pub_name AS \"PUBLISHER\"\n",
    "FROM authors a\n",
    "JOIN titleauthor ta ON a.au_id = ta.au_id\n",
    "JOIN titles t ON ta.title_id = t.title_id\n",
    "JOIN publishers p ON t.pub_id = p.pub_id\n",
    "ORDER BY a.au_id;\n"
   ]
  },
  {
   "cell_type": "code",
   "execution_count": null,
   "id": "a4dcc346",
   "metadata": {},
   "outputs": [],
   "source": [
    "# challenge 2 :\n",
    "SELECT \n",
    "    a.au_id AS \"AUTHOR ID\",\n",
    "    a.au_lname AS \"LAST NAME\",\n",
    "    a.au_fname AS \"FIRST NAME\",\n",
    "    p.pub_name AS \"PUBLISHER\",\n",
    "    COUNT(t.title_id) AS \"TITLE COUNT\"\n",
    "FROM authors a\n",
    "JOIN titleauthor ta ON a.au_id = ta.au_id\n",
    "JOIN titles t ON ta.title_id = t.title_id\n",
    "JOIN publishers p ON t.pub_id = p.pub_id\n",
    "GROUP BY a.au_id, p.pub_id\n",
    "ORDER BY a.au_id, p.pub_name;\n"
   ]
  },
  {
   "cell_type": "code",
   "execution_count": null,
   "id": "68cbee3d",
   "metadata": {},
   "outputs": [],
   "source": [
    "# challenge 3 :\n",
    "SELECT \n",
    "    a.au_id AS \"AUTHOR ID\",\n",
    "    a.au_lname AS \"LAST NAME\",\n",
    "    a.au_fname AS \"FIRST NAME\",\n",
    "    SUM(t.ytd_sales) AS \"TOTAL\"\n",
    "FROM authors a\n",
    "JOIN titleauthor ta ON a.au_id = ta.au_id\n",
    "JOIN titles t ON ta.title_id = t.title_id\n",
    "GROUP BY a.au_id\n",
    "ORDER BY TOTAL DESC\n",
    "LIMIT 3;\n"
   ]
  },
  {
   "cell_type": "code",
   "execution_count": null,
   "id": "d05b07fd",
   "metadata": {},
   "outputs": [],
   "source": [
    "# challenge 4 :\n",
    "SELECT \n",
    "    a.au_id AS \"AUTHOR ID\",\n",
    "    a.au_lname AS \"LAST NAME\",\n",
    "    a.au_fname AS \"FIRST NAME\",\n",
    "    COALESCE(SUM(t.ytd_sales), 0) AS \"TOTAL\"\n",
    "FROM authors a\n",
    "LEFT JOIN titleauthor ta ON a.au_id = ta.au_id\n",
    "LEFT JOIN titles t ON ta.title_id = t.title_id\n",
    "GROUP BY a.au_id\n",
    "ORDER BY TOTAL DESC;"
   ]
  }
 ],
 "metadata": {
  "kernelspec": {
   "display_name": "Python 3",
   "language": "python",
   "name": "python3"
  },
  "language_info": {
   "name": "python",
   "version": "3.11.9"
  }
 },
 "nbformat": 4,
 "nbformat_minor": 5
}
